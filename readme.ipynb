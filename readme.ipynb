{
  "nbformat": 4,
  "nbformat_minor": 0,
  "metadata": {
    "colab": {
      "name": "readme.ipynb",
      "provenance": [],
      "collapsed_sections": []
    },
    "kernelspec": {
      "name": "python3",
      "display_name": "Python 3"
    },
    "accelerator": "GPU"
  },
  "cells": [
    {
      "cell_type": "markdown",
      "metadata": {
        "id": "xXe0OZMDWD5D",
        "colab_type": "text"
      },
      "source": [
        "# nlcli"
      ]
    },
    {
      "cell_type": "markdown",
      "metadata": {
        "id": "P0jMETm3WPog",
        "colab_type": "text"
      },
      "source": [
        "[![Open In Colab](https://colab.research.google.com/assets/colab-badge.svg)](https://colab.research.google.com/github/joaorafaelm/nlcli/blob/master/readme.ipynb)\n",
        "\n",
        "Nlcli is a python package that offers a natural language interface for your programs. It is primarly focused on command line interaction, but it can be used as a chatbot and even as an interface for HTTP based programs; checkout the [examples](https://github.com/joaorafaelm/nlcli/tree/master/examples).\n",
        "\n",
        "Built on top of [mycroftai/padatious](https://github.com/MycroftAI/padatious) and [libfann/fann](https://github.com/libfann/fann)."
      ]
    },
    {
      "cell_type": "markdown",
      "metadata": {
        "id": "CR_wlrMEXWRo",
        "colab_type": "text"
      },
      "source": [
        "# Getting started"
      ]
    },
    {
      "cell_type": "markdown",
      "metadata": {
        "id": "HP3tnAojaY7c",
        "colab_type": "text"
      },
      "source": [
        "*You can run this tutorial interactively on [google colab](https://colab.research.google.com/github/joaorafaelm/nlcli/blob/master/readme.ipynb).*"
      ]
    },
    {
      "cell_type": "markdown",
      "metadata": {
        "id": "2uh6tPd8aIOu",
        "colab_type": "text"
      },
      "source": [
        "### Instalation"
      ]
    },
    {
      "cell_type": "markdown",
      "metadata": {
        "id": "DnpskfTqbsx-",
        "colab_type": "text"
      },
      "source": [
        "Both https://github.com/libfann/fann and https://github.com/swig/swig are required in order to install nlcli.\n",
        "\n",
        "*On macos you might have to compile FANN from source, swig can be instaled via `brew`.*\n",
        "\n",
        "To install the libs on linux, run the following command:"
      ]
    },
    {
      "cell_type": "code",
      "metadata": {
        "id": "WVkFvdG3nk36",
        "colab_type": "code",
        "colab": {}
      },
      "source": [
        "!sudo apt-get -qq install libfann-dev swig"
      ],
      "execution_count": 11,
      "outputs": []
    },
    {
      "cell_type": "markdown",
      "metadata": {
        "id": "hzTmsTQNcVYq",
        "colab_type": "text"
      },
      "source": [
        "Install nlcli using [pip](https://pip.pypa.io/en/stable/quickstart/):"
      ]
    },
    {
      "cell_type": "code",
      "metadata": {
        "id": "A-qCcpEY9Ikv",
        "colab_type": "code",
        "colab": {}
      },
      "source": [
        "!pip install -q nlcli"
      ],
      "execution_count": null,
      "outputs": []
    },
    {
      "cell_type": "markdown",
      "metadata": {
        "id": "TqzlnAvWbjuj",
        "colab_type": "text"
      },
      "source": [
        "## Usage example"
      ]
    },
    {
      "cell_type": "code",
      "metadata": {
        "id": "1ADfTz3VhUr5",
        "colab_type": "code",
        "colab": {}
      },
      "source": [
        "import nlcli\n",
        "\n",
        "\n",
        "@nlcli.cmd([\"hi\", \"Hi my name is {name}\"])\n",
        "def hi(name=\"\"):\n",
        "    return f\"hi {name}\"\n",
        "\n",
        "\n",
        "@nlcli.cmd(\n",
        "    [\"search for {query} on {engine}\", \"search {query} on {engine}\", \"search {query} {engine}\"]\n",
        ")\n",
        "def search(query, engine=\"google\"):\n",
        "    return f\"query: {query}, engine: {engine}\""
      ],
      "execution_count": 12,
      "outputs": []
    },
    {
      "cell_type": "markdown",
      "metadata": {
        "id": "-HkinuxdhAdV",
        "colab_type": "text"
      },
      "source": [
        "Call `nlcli.interact` to parse the query and call the function intent automatically:"
      ]
    },
    {
      "cell_type": "code",
      "metadata": {
        "id": "7Zp1xeST7Rqd",
        "colab_type": "code",
        "colab": {
          "base_uri": "https://localhost:8080/",
          "height": 72
        },
        "outputId": "11726e9c-867a-41dc-aaf9-ac6165fa1b02"
      },
      "source": [
        "nlcli.interact(\"search for brazil on google\", debug=True);"
      ],
      "execution_count": 13,
      "outputs": [
        {
          "output_type": "stream",
          "text": [
            "{'name': 'search', 'sent': ['search', 'for', 'brazil', 'on', 'google'], 'matches': {'query': 'brazil', 'engine': 'google'}, 'conf': 1.0}\n",
            "query: brazil, engine: google\n"
          ],
          "name": "stdout"
        }
      ]
    },
    {
      "cell_type": "code",
      "metadata": {
        "id": "E1DAJLGQ-wYN",
        "colab_type": "code",
        "colab": {
          "base_uri": "https://localhost:8080/",
          "height": 52
        },
        "outputId": "12f48f9a-ccff-4178-bec7-46fb9d62b30e"
      },
      "source": [
        "nlcli.interact(\"hi\", debug=True);"
      ],
      "execution_count": 14,
      "outputs": [
        {
          "output_type": "stream",
          "text": [
            "{'name': 'hi', 'sent': ['hi'], 'matches': {}, 'conf': 1.0}\n",
            "hi \n"
          ],
          "name": "stdout"
        }
      ]
    },
    {
      "cell_type": "code",
      "metadata": {
        "id": "2wrPBIKP_CIl",
        "colab_type": "code",
        "colab": {
          "base_uri": "https://localhost:8080/",
          "height": 52
        },
        "outputId": "258405ba-55d0-45fa-9961-adb9eb8d6f30"
      },
      "source": [
        "nlcli.interact(\"hi, my name is joao\", debug=True);"
      ],
      "execution_count": 15,
      "outputs": [
        {
          "output_type": "stream",
          "text": [
            "{'name': 'hi', 'sent': ['hi', ',', 'my', 'name', 'is', 'joao'], 'matches': {'name': 'joao'}, 'conf': 1.0}\n",
            "hi joao\n"
          ],
          "name": "stdout"
        }
      ]
    },
    {
      "cell_type": "markdown",
      "metadata": {
        "id": "FYJMFxWJdFsG",
        "colab_type": "text"
      },
      "source": [
        "By default, nlcli comes with two builtin commands: `help` and `exit`. When nlcli fails to match a query with an intent, `help` command will be automatically called, you can change the default command by passing `default=True` to the desired `@nlcli.cmd` decorator."
      ]
    },
    {
      "cell_type": "code",
      "metadata": {
        "id": "BnfY8Ey6dmYB",
        "colab_type": "code",
        "colab": {
          "base_uri": "https://localhost:8080/",
          "height": 121
        },
        "outputId": "79b640f0-ec13-484a-fbe3-ad70235a775e"
      },
      "source": [
        "nlcli.interact(\"help\", debug=True);"
      ],
      "execution_count": 16,
      "outputs": [
        {
          "output_type": "stream",
          "text": [
            "{'name': 'help', 'sent': 'help', 'matches': {}, 'conf': 0.49447914140834637}\n",
            "Heres what I can do:\n",
            "\thelp - usage: {skill} help\n",
            "\tbye - usage: See you!\n",
            "\thi - usage: hi\n",
            "\tsearch - usage: search for {query} on {engine}\n"
          ],
          "name": "stdout"
        }
      ]
    },
    {
      "cell_type": "markdown",
      "metadata": {
        "id": "Sw3X5Uw9dvke",
        "colab_type": "text"
      },
      "source": [
        "All custom commands have `help` automatically, if you want `help` on a command, simply ask for it:"
      ]
    },
    {
      "cell_type": "code",
      "metadata": {
        "id": "CjLRHi1ldsDJ",
        "colab_type": "code",
        "colab": {
          "base_uri": "https://localhost:8080/",
          "height": 104
        },
        "outputId": "cba06f08-e109-44b6-8662-d74544a67b46"
      },
      "source": [
        "nlcli.interact(\"help me with search\", debug=True);"
      ],
      "execution_count": 17,
      "outputs": [
        {
          "output_type": "stream",
          "text": [
            "{'name': 'help', 'sent': ['help', 'me', 'with', 'search'], 'matches': {'skill': 'search'}, 'conf': 1.0}\n",
            "here are some examples on how to use search:\n",
            "\tsearch for {query} on {engine}\n",
            "\tsearch {query} on {engine}\n",
            "\tsearch {query} {engine}\n"
          ],
          "name": "stdout"
        }
      ]
    },
    {
      "cell_type": "markdown",
      "metadata": {
        "id": "R28A4sQMik1G",
        "colab_type": "text"
      },
      "source": [
        "# CLI usage:"
      ]
    },
    {
      "cell_type": "code",
      "metadata": {
        "id": "sfz5qkfFikJa",
        "colab_type": "code",
        "colab": {}
      },
      "source": [
        "!git clone -q https://github.com/joaorafaelm/nlcli.git && cd nlcli"
      ],
      "execution_count": null,
      "outputs": []
    },
    {
      "cell_type": "code",
      "metadata": {
        "id": "qadcsbk3i9VM",
        "colab_type": "code",
        "colab": {}
      },
      "source": [
        "!python -m examples.getting_started hi my name is joao"
      ],
      "execution_count": null,
      "outputs": []
    },
    {
      "cell_type": "markdown",
      "metadata": {
        "id": "PVRskRRveILA",
        "colab_type": "text"
      },
      "source": [
        "# TODO\n",
        "- Implement data augmentation lib in order to generate more samples, e.g commands with typos, grammar errors, wrong spelling, etc. https://github.com/makcedward/nlpaug\n",
        "- Support intent files so that intent data can be decoupled from code.\n",
        "- Response template and i18n.\n",
        "- Add telegram and flask integration examples.\n",
        "- Read from stdin.\n",
        "- tests & ci setup."
      ]
    }
  ]
}